{
  "nbformat": 4,
  "nbformat_minor": 0,
  "metadata": {
    "kernelspec": {
      "display_name": "Python 3",
      "language": "python",
      "name": "python3"
    },
    "language_info": {
      "codemirror_mode": {
        "name": "ipython",
        "version": 3
      },
      "file_extension": ".py",
      "mimetype": "text/x-python",
      "name": "python",
      "nbconvert_exporter": "python",
      "pygments_lexer": "ipython3",
      "version": "3.5.6"
    },
    "colab": {
      "name": "Cópia de main.ipynb",
      "provenance": [],
      "collapsed_sections": [],
      "include_colab_link": true
    }
  },
  "cells": [
    {
      "cell_type": "markdown",
      "metadata": {
        "id": "view-in-github",
        "colab_type": "text"
      },
      "source": [
        "<a href=\"https://colab.research.google.com/github/iagorichard/NeuralNetworks2020.1/blob/master/main.ipynb\" target=\"_parent\"><img src=\"https://colab.research.google.com/assets/colab-badge.svg\" alt=\"Open In Colab\"/></a>"
      ]
    },
    {
      "cell_type": "code",
      "metadata": {
        "id": "faFCZgxWJlV8",
        "colab_type": "code",
        "colab": {}
      },
      "source": [
        "import numpy as nps\n",
        "from scipy.signal import convolve2d\n",
        "from skimage.measure import block_reduce\n",
        "\n",
        "class CNN:\n",
        "\n",
        "    def __init__(self):\n",
        "\n",
        "        print(\"Your CNN has been initialized!\")\n",
        "\n",
        "\n",
        "    def get_filters(self, kernel_size, number_filters):\n",
        "        # We divide by 9 to reduce the variance of our initial values\n",
        "        return np.random.rand(number_filters, kernel_size, kernel_size)\n",
        "\n",
        "\n",
        "    def Conv2D(self, data, kernel_size=3, filters=8):\n",
        "        \n",
        "        input_images = data[0]\n",
        "        input_labels = data[1]\n",
        "\n",
        "        output_images = []\n",
        "        output_labels = []\n",
        "\n",
        "        filters = self.get_filters(kernel_size, filters)\n",
        "        \n",
        "        for image, label in zip(input_images, input_labels):\n",
        "            for filter in filters:\n",
        "                out = convolve2d(image, filter, mode=\"valid\")\n",
        "                output_images.append(out)\n",
        "                output_labels.append(label)\n",
        "                \n",
        "        return [np.array(output_images), np.array(output_labels)]\n",
        "      \n",
        "    \n",
        "    #implementation of this is missing\n",
        "    def Pooling2D(self, data, pool_size=(2,2), operation=\"max\"):\n",
        "\n",
        "        input_images = data[0]\n",
        "        output_images = []\n",
        "\n",
        "        if operation == \"max\":\n",
        "            pool = np.max\n",
        "        elif operation == \"min\":\n",
        "            pool = np.min\n",
        "        elif operation == \"mean\":\n",
        "            pool = np.mean\n",
        "        \n",
        "        for image in input_images:\n",
        "            pooled = block_reduce(image, pool_size, pool)\n",
        "            output_images.append(pooled)\n",
        "        \n",
        "        return [np.array(output_images), data[1]]\n",
        "\n",
        "    \n",
        "    #implementation of this is missing\n",
        "    def PCAReduction(self, data, variance=0.95):\n",
        "\n",
        "        return data\n",
        "    \n",
        "    \n",
        "    def relu(self, data, isLeaky = False):\n",
        "      \n",
        "        if isLeaky:\n",
        "            data[0][data[0] < 0] = data[0][data[0] < 0]*0.01\n",
        "        else:\n",
        "            data[0][data[0] < 0] = 0\n",
        "        \n",
        "        return data"
      ],
      "execution_count": null,
      "outputs": []
    },
    {
      "cell_type": "code",
      "metadata": {
        "id": "FJ5mta67eZ7C",
        "colab_type": "code",
        "colab": {}
      },
      "source": [
        "class MLP:\n",
        "\n",
        "    def __init__(self):\n",
        "  \n",
        "        print(\"Your MLP has been initialized!\")\n"
      ],
      "execution_count": null,
      "outputs": []
    },
    {
      "cell_type": "code",
      "metadata": {
        "id": "SU-v-GjUQ08Z",
        "colab_type": "code",
        "colab": {}
      },
      "source": [
        "#if mnist is not installed in the virtual environment, just uncomment this line bellow\n",
        "#!pip install mnist\n",
        "\n",
        "#for image visualization\n",
        "from google.colab.patches import cv2_imshow\n",
        "import mnist"
      ],
      "execution_count": null,
      "outputs": []
    },
    {
      "cell_type": "code",
      "metadata": {
        "id": "sPQgqlAKcgUC",
        "colab_type": "code",
        "colab": {}
      },
      "source": [
        "#defining the dataset of MNIST\n",
        "train_images = mnist.train_images()/255 #normalize the images dividing by 255 (max color)\n",
        "train_labels = mnist.train_labels()\n",
        "test_images = mnist.test_images()/255 #normalize the images dividing by 255 (max color)\n",
        "test_labels = mnist.test_labels()\n",
        "\n",
        "data_train = [train_images, train_labels]"
      ],
      "execution_count": null,
      "outputs": []
    },
    {
      "cell_type": "code",
      "metadata": {
        "id": "K9xrvsPyRD7a",
        "colab_type": "code",
        "colab": {
          "base_uri": "https://localhost:8080/",
          "height": 34
        },
        "outputId": "b7ea6af4-f84b-4663-a0df-1d5596dfd354"
      },
      "source": [
        "arch = CNN()"
      ],
      "execution_count": null,
      "outputs": [
        {
          "output_type": "stream",
          "text": [
            "Your CNN has been initialized!\n"
          ],
          "name": "stdout"
        }
      ]
    },
    {
      "cell_type": "code",
      "metadata": {
        "id": "YgrWzva_QtXM",
        "colab_type": "code",
        "colab": {}
      },
      "source": [
        "layer1_output = arch.Conv2D(data_train, kernel_size=3, filters=8)"
      ],
      "execution_count": null,
      "outputs": []
    },
    {
      "cell_type": "code",
      "metadata": {
        "id": "HOe4otVVVHjO",
        "colab_type": "code",
        "colab": {}
      },
      "source": [
        "layer2_output = arch.Pooling2D(layer1_output, pool_size=(2,2), operation=\"max\")"
      ],
      "execution_count": null,
      "outputs": []
    }
  ]
}